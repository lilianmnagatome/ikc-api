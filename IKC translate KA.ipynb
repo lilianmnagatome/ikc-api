{
 "cells": [
  {
   "cell_type": "code",
   "execution_count": null,
   "id": "c1843b25-7910-4d42-9f6e-7ba0284c67dd",
   "metadata": {},
   "outputs": [],
   "source": [
    "import requests\n",
    "import json\n",
    "import time\n",
    "import pandas as pd\n",
    "from googletrans import Translator\n",
    "import config"
   ]
  },
  {
   "cell_type": "markdown",
   "id": "d95aa209-173b-430b-acb6-e3f6848dfabd",
   "metadata": {},
   "source": [
    "# Atualizar credenciais"
   ]
  },
  {
   "cell_type": "code",
   "execution_count": null,
   "id": "f658d4a0-92c1-4a75-b778-9877f3da0bef",
   "metadata": {},
   "outputs": [],
   "source": [
    "payload = \"\"\n",
    "headers = {\n",
    "  'Content-Type': 'application/json',\n",
    "  'Authorization': 'Bearer ' + config.bearer,\n",
    "  'Cookie':  config.cookie\n",
    "}\n",
    "\n",
    "hostname = config.url"
   ]
  },
  {
   "cell_type": "code",
   "execution_count": null,
   "id": "eb6c6229-9f5c-4bf3-a64f-c48fa0bceb77",
   "metadata": {},
   "outputs": [],
   "source": [
    "def get_categories(hostname, init, headers, payload):\n",
    "    \n",
    "    categories_id=[init]\n",
    "    \n",
    "    for i in categories_id:\n",
    "        url = f\"https://{hostname}/v3/categories/{i}\"\n",
    "        \n",
    "        response = requests.request(\"GET\", url, headers=headers, data=payload)\n",
    "        # print(response.text)\n",
    "        jsondata = response.json()\n",
    "        \n",
    "        new_categories = [d['entity']['target_id'] for d in jsondata['entity']['has_types_category_rels']]\n",
    "        categories_id.extend(new_categories)\n",
    "        \n",
    "    return(categories_id)\n",
    "\n",
    "\n",
    "def get_artifacts(hostname, artifact_type, headers, payload, pages):\n",
    "\n",
    "    list = []\n",
    "    \n",
    "    for i in range(pages):\n",
    "        url = f\"https://{hostname}/v3/governance_artifact_types/{artifact_type}?workflow_status=published&limit=200&offset={i*200}\"\n",
    "        \n",
    "        response = requests.request(\"GET\", url, headers=headers, data=payload)\n",
    "        jsondata = response.json()\n",
    "        \n",
    "        list.extend(jsondata['resources'])\n",
    "        \n",
    "        print(artifact_type + ' página: '+ f'{i}')\n",
    "\n",
    "    df = pd.DataFrame(list)\n",
    "    df['parent_category'] = [d['artifact_id'] for d in df['parent_category']]\n",
    "    \n",
    "    return(df)\n",
    "\n",
    "\n",
    "def google_translator(input):\n",
    "    #translating using Google Translator API\n",
    "    translator = Translator()\n",
    "    translated = translator.translate(input, dest = 'pt', src = 'en')\n",
    "    return(translated.text)\n",
    "\n",
    "\n",
    "def tradutor(hostname, payload, headers, df, artifact_type, version, location):\n",
    "    \n",
    "    contador = 1\n",
    "    \n",
    "    for i in df.index:\n",
    "        \n",
    "        artifact_id = df.loc[i]['artifact_id']\n",
    "        version_id = df.loc[i]['version_id']\n",
    "\n",
    "        #getting long_description\n",
    "        print('getting long_description')\n",
    "        url = f\"https://{hostname}/{version}/{artifact_type}/{artifact_id}/versions\"\n",
    "        response = requests.request(\"GET\", url, headers=headers, data=payload)\n",
    "        # print(response.text)\n",
    "        jsondata = response.json()\n",
    "        long_description = jsondata[location][0]['entity']['long_description']\n",
    "        name = jsondata[location][0]['metadata']['name']\n",
    "        \n",
    "        print(name)\n",
    "        print(long_description)\n",
    "        \n",
    "    \n",
    "        translated_long_description = google_translator(long_description)\n",
    "        translated_name = google_translator(name)\n",
    "\n",
    "        #updating the new long_description\n",
    "        print('updating the new long_description')\n",
    "        url = f\"https://{hostname}/{version}/{artifact_type}/{artifact_id}/versions/{version_id}\"\n",
    "        \n",
    "        payload = json.dumps({\n",
    "            \"long_description\": translated_long_description,\n",
    "            \"name\": translated_name,\n",
    "            \"revision\": \"1\"\n",
    "        })\n",
    "        \n",
    "        response = requests.request(\"PATCH\", url, headers=headers, data=payload)\n",
    "        jsondata = response.json()\n",
    "        print(jsondata)\n",
    "        \n",
    "        print('%%%%%%% Completed: ' + f'{contador}' + '/' + f'{len(df.index)}')\n",
    "        \n",
    "        contador = contador + 1\n"
   ]
  },
  {
   "cell_type": "code",
   "execution_count": null,
   "id": "0cc00a6d-ceee-4517-822e-f55c7a5f61b0",
   "metadata": {
    "scrolled": true
   },
   "outputs": [],
   "source": [
    "cross = '7b443c89-5306-4069-90b4-af58479d800e' #category ID\n",
    "\n",
    "categories_id_cross = get_categories(hostname, cross, headers, payload)\n",
    "print(len(categories_id_cross))"
   ]
  },
  {
   "cell_type": "code",
   "execution_count": null,
   "id": "8453afee-0622-4de0-bd2d-b12a67e812cc",
   "metadata": {
    "scrolled": true
   },
   "outputs": [],
   "source": [
    "# artifact_type = ['classification','classifications'] \n",
    "# artifact_type = ['data_class','data_classes'] \n",
    "# artifact_type = ['reference_data','reference_data_sets'] \n",
    "# artifact_type = ['policy','policies']\n",
    "# artifact_type = ['rule','rules'] \n",
    "artifact_type = ['glossary_term','glossary_terms']\n",
    "\n",
    "df = get_artifacts(hostname, artifact_type[0], headers, payload, 180)\n",
    "df"
   ]
  },
  {
   "cell_type": "code",
   "execution_count": null,
   "id": "b939cb7c-ed57-4c25-a2bb-6017be7cace1",
   "metadata": {},
   "outputs": [],
   "source": [
    "df_cross = df[df['parent_category'].isin(categories_id_cross)]\n",
    "print(len(df_cross))"
   ]
  },
  {
   "cell_type": "code",
   "execution_count": null,
   "id": "91c75b21-f916-48d8-a496-608055716356",
   "metadata": {
    "scrolled": true
   },
   "outputs": [],
   "source": [
    "# classification, data_class, policy, rule\n",
    "version='v3'\n",
    "location='resources'\n",
    "\n",
    "tradutor(hostname, payload, headers, df_accelerator, artifact_type[1], version, location)"
   ]
  },
  {
   "cell_type": "code",
   "execution_count": null,
   "id": "3ec0f41a-3c90-44ab-ae6b-5d92e550e936",
   "metadata": {
    "scrolled": true
   },
   "outputs": [],
   "source": [
    "## reference_data\n",
    "version='v4'\n",
    "location='versions'\n",
    "\n",
    "tradutor(hostname, payload, headers, df_cross, artifact_type[1], version, location)"
   ]
  },
  {
   "cell_type": "code",
   "execution_count": null,
   "id": "c6fe9ad9-26b2-46af-9b81-82b4ce30d62d",
   "metadata": {
    "scrolled": true
   },
   "outputs": [],
   "source": [
    "## business_terms\n",
    "version='v3'\n",
    "location='resources'\n",
    "\n",
    "tradutor(hostname, payload, headers, df_cross, artifact_type[1], version, location)"
   ]
  },
  {
   "cell_type": "code",
   "execution_count": null,
   "id": "48a5bc23-ce5d-4fc3-a3b6-7024e09bef6e",
   "metadata": {},
   "outputs": [],
   "source": [
    "#TRANSLATING CATEGORY NAMES\n",
    "\n",
    "for categoria in [categories_id_cross]:\n",
    "    \n",
    "    print('#####################################')\n",
    "    print(categoria)\n",
    "    print('#####################################')\n",
    "    \n",
    "    contador = 1\n",
    "    \n",
    "    for i in range(len(categoria)):\n",
    "        category_id = categoria[i]\n",
    "    \n",
    "        url = f\"https://{hostname}/v3/categories/{category_id}\"\n",
    "        \n",
    "        response = requests.request(\"GET\", url, headers=headers, data=payload)\n",
    "        jsondata = response.json()\n",
    "    \n",
    "    \n",
    "        long_description = jsondata['entity']['long_description']\n",
    "        name = jsondata['metadata']['name']\n",
    "    \n",
    "        print(name)\n",
    "        print(long_description)\n",
    "        \n",
    "        translated_long_description = google_translator(long_description)\n",
    "        translated_name = google_translator(name)\n",
    "    \n",
    "        print(translated_name)\n",
    "        print(translated_long_description)\n",
    "    \n",
    "        #updating the new long_description\n",
    "        print('updating the new long_description')\n",
    "        url = f\"https://{hostname}/v3/categories/{category_id}\"\n",
    "        \n",
    "        payload = json.dumps({\n",
    "            \"long_description\": translated_long_description,\n",
    "            \"name\": translated_name\n",
    "        })\n",
    "        \n",
    "        response = requests.request(\"PATCH\", url, headers=headers, data=payload)\n",
    "        jsondata = response.json()\n",
    "        print(jsondata)\n",
    "        \n",
    "        print('%%%%%%% Completed: ' + f'{contador}' + '/' + f'{len(categoria)}')\n",
    "        \n",
    "        contador = contador + 1"
   ]
  },
  {
   "cell_type": "code",
   "execution_count": null,
   "id": "22dffbe8-2f86-4a89-8219-7e2e1624ac4d",
   "metadata": {},
   "outputs": [],
   "source": []
  },
  {
   "cell_type": "code",
   "execution_count": null,
   "id": "baed915b-2796-43fa-9230-cc4b921eb6ca",
   "metadata": {},
   "outputs": [],
   "source": []
  }
 ],
 "metadata": {
  "kernelspec": {
   "display_name": "Python 3 (ipykernel)",
   "language": "python",
   "name": "python3"
  },
  "language_info": {
   "codemirror_mode": {
    "name": "ipython",
    "version": 3
   },
   "file_extension": ".py",
   "mimetype": "text/x-python",
   "name": "python",
   "nbconvert_exporter": "python",
   "pygments_lexer": "ipython3",
   "version": "3.12.0"
  }
 },
 "nbformat": 4,
 "nbformat_minor": 5
}
