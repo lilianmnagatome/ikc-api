{
 "cells": [
  {
   "cell_type": "code",
   "execution_count": null,
   "id": "c1843b25-7910-4d42-9f6e-7ba0284c67dd",
   "metadata": {},
   "outputs": [],
   "source": [
    "import requests\n",
    "import json\n",
    "import time\n",
    "import config"
   ]
  },
  {
   "cell_type": "markdown",
   "id": "d95aa209-173b-430b-acb6-e3f6848dfabd",
   "metadata": {},
   "source": [
    "# Atualizar credenciais"
   ]
  },
  {
   "cell_type": "code",
   "execution_count": null,
   "id": "4629749b-fc03-4556-9e11-06d50f3640c5",
   "metadata": {},
   "outputs": [],
   "source": [
    "payload = \"\"\n",
    "headers = {\n",
    "  'Authorization': 'Bearer ' + config.bearer,\n",
    "  'Cookie':  config.cookie\n",
    "}"
   ]
  },
  {
   "cell_type": "code",
   "execution_count": null,
   "id": "f658d4a0-92c1-4a75-b778-9877f3da0bef",
   "metadata": {},
   "outputs": [],
   "source": [
    "hostname = config.url\n",
    "catalog_id = '9c27cbda-d0ef-4290-9f03-06f7f4c64c3b'\n",
    "asset_id = '73fc5658-9e38-4d79-a052-2e0aef03cebe'\n",
    "column_id = 'CAMPAIGN_KEY'"
   ]
  },
  {
   "cell_type": "markdown",
   "id": "4b0f4e1d-e88b-4c5f-9bc5-4548651d0f1f",
   "metadata": {},
   "source": [
    "# Get term_id"
   ]
  },
  {
   "cell_type": "code",
   "execution_count": null,
   "id": "72f7f0e5-3222-472a-970f-c613c50a8d21",
   "metadata": {
    "scrolled": true
   },
   "outputs": [],
   "source": [
    "url = f\"https://{hostname}/v2/assets/{asset_id}/attributes?catalog_id={catalog_id}\"\n",
    "\n",
    "response = requests.request(\"GET\", url, headers=headers, data=payload)\n",
    "jsondata = response.json()\n",
    "term_id = jsondata['resources'][2]['column_info'][column_id]['column_terms'][0]['term_id']\n",
    "term_id"
   ]
  },
  {
   "cell_type": "markdown",
   "id": "9247c435-1d66-49ca-980b-2d3d0001db38",
   "metadata": {},
   "source": [
    "# Get glossary_term long_description"
   ]
  },
  {
   "cell_type": "code",
   "execution_count": null,
   "id": "de8edb66-ac1c-4929-a259-4a4a3e5387bd",
   "metadata": {
    "scrolled": true
   },
   "outputs": [],
   "source": [
    "url = f\"https://{hostname}/v3/glossary_terms/{term_id}/versions\"\n",
    "\n",
    "response = requests.request(\"GET\", url, headers=headers, data=payload)\n",
    "jsondata = response.json()\n",
    "long_description = jsondata['resources'][0]['entity']['long_description']\n",
    "long_description"
   ]
  },
  {
   "cell_type": "markdown",
   "id": "bf69ec89-6e0a-4e46-89d5-287cf0dee0db",
   "metadata": {},
   "source": [
    "# Patch glossary_term long_description to asset attribute"
   ]
  },
  {
   "cell_type": "code",
   "execution_count": null,
   "id": "3e898af4-50a4-465e-bcf4-e6f172a8c685",
   "metadata": {
    "scrolled": true
   },
   "outputs": [],
   "source": [
    "url = f\"https://{hostname}/v2/assets/{asset_id}/attributes/column_info?catalog_id={catalog_id}\"\n",
    "\n",
    "payload = json.dumps([\n",
    "  {\n",
    "    \"op\": \"add\",\n",
    "    \"path\": f\"/{column_id}/column_description\",\n",
    "    \"value\": long_description\n",
    "  }\n",
    "])\n",
    "headers = {\n",
    "  'Content-Type': 'application/json',\n",
    "  'Authorization': 'Bearer ' + config.bearer,\n",
    "  'Cookie':  config.cookie\n",
    "}\n",
    "\n",
    "response = requests.request(\"PATCH\", url, headers=headers, data=payload)\n",
    "jsondata = response.json()\n",
    "jsondata[column_id]['column_description']"
   ]
  }
 ],
 "metadata": {
  "kernelspec": {
   "display_name": "Python 3 (ipykernel)",
   "language": "python",
   "name": "python3"
  },
  "language_info": {
   "codemirror_mode": {
    "name": "ipython",
    "version": 3
   },
   "file_extension": ".py",
   "mimetype": "text/x-python",
   "name": "python",
   "nbconvert_exporter": "python",
   "pygments_lexer": "ipython3",
   "version": "3.12.0"
  }
 },
 "nbformat": 4,
 "nbformat_minor": 5
}
