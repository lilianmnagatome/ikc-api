{
 "cells": [
  {
   "cell_type": "code",
   "execution_count": null,
   "id": "b1bad955-324c-4537-b020-59aa5b78e796",
   "metadata": {},
   "outputs": [],
   "source": [
    "import requests\n",
    "import json\n",
    "import config\n",
    "\n",
    "url = config.url + \"/v3/glossary_terms?skip_workflow_if_possible=true\"\n",
    "\n",
    "payload = json.dumps([\n",
    "  {\n",
    "    \"categories\": [\n",
    "      {\n",
    "        \"id\": \"21b49bce-6b39-4d38-8fea-b8e335dd4b47\"\n",
    "      }\n",
    "    ],\n",
    "    \"long_description\": \"long description\",\n",
    "    \"name\": \"Name 3\",\n",
    "    \"short_description\": \"short description\"\n",
    "  }\n",
    "])\n",
    "headers = {\n",
    "  'Content-Type': 'application/json',\n",
    "  'Authorization': 'Bearer ' + config.bearer,\n",
    "  'Cookie':  config.cookie\n",
    "}\n",
    "\n",
    "response = requests.request(\"POST\", url, headers=headers, data=payload)\n",
    "\n",
    "print(response.text)\n"
   ]
  }
 ],
 "metadata": {
  "kernelspec": {
   "display_name": "Python 3 (ipykernel)",
   "language": "python",
   "name": "python3"
  },
  "language_info": {
   "codemirror_mode": {
    "name": "ipython",
    "version": 3
   },
   "file_extension": ".py",
   "mimetype": "text/x-python",
   "name": "python",
   "nbconvert_exporter": "python",
   "pygments_lexer": "ipython3",
   "version": "3.12.0"
  }
 },
 "nbformat": 4,
 "nbformat_minor": 5
}
