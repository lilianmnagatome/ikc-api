{
 "cells": [
  {
   "cell_type": "code",
   "execution_count": null,
   "id": "1f7e64ce-dde3-4715-bed3-09695b6b8638",
   "metadata": {},
   "outputs": [],
   "source": [
    "import requests\n",
    "import json\n",
    "import config\n",
    "\n",
    "url = config.url + \"/v2/connections?catalog_id=\" + config.catalog_id\n",
    "# url = config.url + \"/v2/connections?project_id=\" + config.project_id\n",
    "\n",
    "payload = json.dumps({\n",
    "  \"datasource_type\": \"8c1a4480-1c29-4b33-9086-9cb799d7b157\", #GET /v2/datasource_types to get to datasource_type ID\n",
    "  \"name\": \"IBM Db2 (criado por API)\",\n",
    "  \"origin_country\": \"br\",\n",
    "  \"flags\": [\n",
    "    \"personal_credentials\"\n",
    "  ],\n",
    "  \"properties\": {\n",
    "    \"host\": config.db2host,\n",
    "    \"port\": config.db2port,\n",
    "    \"database\": config.db2database,\n",
    "    \"password\": config.db2password,\n",
    "    \"username\": config.db2username,\n",
    "    \"ssl\": True\n",
    "  }\n",
    "})\n",
    "headers = {\n",
    "  'Content-Type': 'application/json',\n",
    "  'Authorization': 'Bearer ' + config.bearer,\n",
    "  'Cookie':  config.cookie\n",
    "}\n",
    "\n",
    "response = requests.request(\"POST\", url, headers=headers, data=payload)\n",
    "\n",
    "print(response.text)"
   ]
  },
  {
   "cell_type": "code",
   "execution_count": null,
   "id": "9fde78c5-7cf9-4b33-b69d-e22ea2b90a5c",
   "metadata": {},
   "outputs": [],
   "source": []
  }
 ],
 "metadata": {
  "kernelspec": {
   "display_name": "Python 3 (ipykernel)",
   "language": "python",
   "name": "python3"
  },
  "language_info": {
   "codemirror_mode": {
    "name": "ipython",
    "version": 3
   },
   "file_extension": ".py",
   "mimetype": "text/x-python",
   "name": "python",
   "nbconvert_exporter": "python",
   "pygments_lexer": "ipython3",
   "version": "3.12.0"
  }
 },
 "nbformat": 4,
 "nbformat_minor": 5
}
